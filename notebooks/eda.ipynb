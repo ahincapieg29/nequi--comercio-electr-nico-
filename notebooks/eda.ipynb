{
 "cells": [
  {
   "cell_type": "markdown",
   "id": "1f9381c1",
   "metadata": {},
   "source": [
    "# 🧪 EDA con PySpark - Comportamiento de Usuarios en eCommerce\r\n",
    "\r\n",
    "Este cuaderno utiliza PySpark para realizar un análisis exploratorio de datos (EDA) sobre el archivo `2020-Apr.csv.gz`. Evaluaremos la calidad del dataset, incluyendo valores nulos, duplicados, y formatos erróneos, y documentaremos los pasos necesarios para su limpieza."
   ]
  },
  {
   "cell_type": "markdown",
   "id": "214173d1-c517-4e59-a705-178259f03bbf",
   "metadata": {},
   "source": [
    "## 1.📥 Carga de librerías y creación de sesión de Spark"
   ]
  },
  {
   "cell_type": "code",
   "execution_count": 73,
   "id": "07eb8bcf",
   "metadata": {},
   "outputs": [],
   "source": [
    "# Importamos PySpark y funciones necesarias\n",
    "from pyspark.sql import SparkSession\n",
    "from pyspark.sql.functions import col, when, count, isnan, udf, hour, to_date\n",
    "from pyspark.sql.types import TimestampType\n",
    "import pandas as pd\n",
    "import matplotlib.pyplot as plt\n",
    "import seaborn as sns\n",
    "import plotly.express as px\n",
    "\n",
    "# Creamos una sesión de Spark para el análisis\n",
    "spark = SparkSession.builder \\\n",
    "    .appName(\"EDA_Advanced_eCommerce\") \\\n",
    "    .getOrCreate()"
   ]
  },
  {
   "cell_type": "markdown",
   "id": "dbf72f83-192b-451a-8bcc-274f41f3da5d",
   "metadata": {},
   "source": [
    "## 2.📂 Carga del conjunto de datos"
   ]
  },
  {
   "cell_type": "code",
   "execution_count": 3,
   "id": "e154c017",
   "metadata": {},
   "outputs": [
    {
     "name": "stdout",
     "output_type": "stream",
     "text": [
      "root\n",
      " |-- event_time: timestamp (nullable = true)\n",
      " |-- event_type: string (nullable = true)\n",
      " |-- product_id: integer (nullable = true)\n",
      " |-- category_id: long (nullable = true)\n",
      " |-- category_code: string (nullable = true)\n",
      " |-- brand: string (nullable = true)\n",
      " |-- price: double (nullable = true)\n",
      " |-- user_id: integer (nullable = true)\n",
      " |-- user_session: string (nullable = true)\n",
      "\n",
      "+-------------------+----------+----------+-------------------+--------------------+--------+-------+---------+--------------------+\n",
      "|         event_time|event_type|product_id|        category_id|       category_code|   brand|  price|  user_id|        user_session|\n",
      "+-------------------+----------+----------+-------------------+--------------------+--------+-------+---------+--------------------+\n",
      "|2020-03-31 19:00:00|      view|   1201465|2232732101407408685|apparel.shoes.sli...| samsung| 230.38|568984877|e2456cef-2d4f-42b...|\n",
      "|2020-03-31 19:00:01|      view|   1307156|2053013554658804075|electronics.audio...|   apple|1352.67|514955500|38f43134-de83-471...|\n",
      "|2020-03-31 19:00:01|      view|   1480477|2053013563835941749|appliances.kitche...|   apple|1184.05|633645770|16aba270-b3c2-4b2...|\n",
      "|2020-03-31 19:00:02|      view|   1307050|2053013554658804075|electronics.audio...|   apple|1724.34|564933778|05b443bd-e68a-4d7...|\n",
      "|2020-03-31 19:00:03|      view|   9500109|2232732104175649385|       apparel.scarf|defender|  25.05|530206135|e3c1fb4b-0a7e-457...|\n",
      "+-------------------+----------+----------+-------------------+--------------------+--------+-------+---------+--------------------+\n",
      "only showing top 5 rows\n",
      "\n"
     ]
    }
   ],
   "source": [
    "# Cargamos el archivo CSV comprimido, indicando encabezado y tipos inferidos\n",
    "df_full  = spark.read.csv(\"../data/raw/2020-Apr.csv.gz\", header=True, inferSchema=True)\n",
    "\n",
    "# Visualizamos el esquema del dataset\n",
    "df_full .printSchema()\n",
    "\n",
    "# Mostramos las primeras filas como vista rápida\n",
    "df_full .show(5)"
   ]
  },
  {
   "cell_type": "markdown",
   "id": "2f684d03-f08e-4724-9606-776bd79aac31",
   "metadata": {},
   "source": [
    "## 3.📉 Muestreo para el EDA"
   ]
  },
  {
   "cell_type": "code",
   "execution_count": 5,
   "id": "d6b2b2e6-d68b-4eb7-8777-8676b45b5da3",
   "metadata": {},
   "outputs": [
    {
     "name": "stdout",
     "output_type": "stream",
     "text": [
      "Total registros muestreados: 1531767\n"
     ]
    }
   ],
   "source": [
    "# Por rendimiento, tomamos una muestra de aproximadamente 1.5 millones de registros\n",
    "df = df_full.sample(withReplacement=False, fraction=0.023, seed=42)\n",
    "\n",
    "print(f\"Total registros muestreados: {df.count()}\")"
   ]
  },
  {
   "cell_type": "code",
   "execution_count": 6,
   "id": "dce21dd6-87a7-4cab-bf9a-f73e85e6cf21",
   "metadata": {},
   "outputs": [],
   "source": [
    "# Eliminar DataFrames temporales para liberar memoria\n",
    "del df_full"
   ]
  },
  {
   "cell_type": "markdown",
   "id": "10bf7cba-26bf-4870-b54a-30c33a097646",
   "metadata": {},
   "source": [
    "## 4.📏 Verificación de dimensiones y estructura"
   ]
  },
  {
   "cell_type": "code",
   "execution_count": 8,
   "id": "9c57f91f-7a1d-4093-9e80-6e737755b7f3",
   "metadata": {},
   "outputs": [
    {
     "name": "stdout",
     "output_type": "stream",
     "text": [
      "Número de registros: 1531767\n",
      "Número de columnas: 9\n",
      "Columnas disponibles: ['event_time', 'event_type', 'product_id', 'category_id', 'category_code', 'brand', 'price', 'user_id', 'user_session']\n",
      "root\n",
      " |-- event_time: timestamp (nullable = true)\n",
      " |-- event_type: string (nullable = true)\n",
      " |-- product_id: integer (nullable = true)\n",
      " |-- category_id: long (nullable = true)\n",
      " |-- category_code: string (nullable = true)\n",
      " |-- brand: string (nullable = true)\n",
      " |-- price: double (nullable = true)\n",
      " |-- user_id: integer (nullable = true)\n",
      " |-- user_session: string (nullable = true)\n",
      "\n",
      "+-------------------+----------+----------+-------------------+--------------------+------+-------+---------+--------------------+\n",
      "|         event_time|event_type|product_id|        category_id|       category_code| brand|  price|  user_id|        user_session|\n",
      "+-------------------+----------+----------+-------------------+--------------------+------+-------+---------+--------------------+\n",
      "|2020-03-31 19:00:11|      view|   1307284|2053013554658804075|electronics.audio...|    hp|1376.87|567908086|b2ea0c25-1f3c-429...|\n",
      "|2020-03-31 19:00:40|      cart|   5100328|2232732103101907535|  electronics.clocks|xiaomi| 117.12|635164513|c40d1b96-90aa-4ce...|\n",
      "|2020-03-31 19:00:42|      view|   1802011|2232732099754852875|appliances.person...| yasin| 230.71|595290761|65b157d0-727b-492...|\n",
      "|2020-03-31 19:01:04|      cart|   4100369|2232732098228126185|       apparel.shoes|  sony|  540.3|635165471|c6ce1b9b-19d1-429...|\n",
      "|2020-03-31 19:01:08|      view|   1005288|2232732093077520756|construction.tool...|xiaomi| 262.56|532575111|d25af1c5-cd20-445...|\n",
      "+-------------------+----------+----------+-------------------+--------------------+------+-------+---------+--------------------+\n",
      "only showing top 5 rows\n",
      "\n"
     ]
    }
   ],
   "source": [
    "# Verificar dimensiones\n",
    "print(f\"Número de registros: {df.count()}\")\n",
    "print(f\"Número de columnas: {len(df.columns)}\")\n",
    "print(\"Columnas disponibles:\", df.columns)\n",
    "\n",
    "# Visualización del esquema\n",
    "df.printSchema()\n",
    "\n",
    "# Vista rápida de los primeros registros\n",
    "df.show(5)"
   ]
  },
  {
   "cell_type": "markdown",
   "id": "abed019f-6cbd-4bba-a035-47972703d0d3",
   "metadata": {},
   "source": [
    "## 5. 💵 Estadísticas Generales de Precio"
   ]
  },
  {
   "cell_type": "code",
   "execution_count": 10,
   "id": "89230c02-652a-496f-b453-2ebfb2fabffe",
   "metadata": {},
   "outputs": [
    {
     "name": "stdout",
     "output_type": "stream",
     "text": [
      "+-------+-----------------+\n",
      "|summary|            price|\n",
      "+-------+-----------------+\n",
      "|  count|          1531767|\n",
      "|   mean|273.1112123382352|\n",
      "| stddev|356.1319784746374|\n",
      "|    min|              0.0|\n",
      "|    max|          2574.07|\n",
      "+-------+-----------------+\n",
      "\n"
     ]
    }
   ],
   "source": [
    "# Estadísticas descriptivas de la columna price\n",
    "df.describe([\"price\"]).show()"
   ]
  },
  {
   "cell_type": "markdown",
   "id": "0c34dfd3-9f46-4619-a748-1721031ed665",
   "metadata": {},
   "source": [
    "## 6. 🚨 Análisis de calidad de datos"
   ]
  },
  {
   "cell_type": "markdown",
   "id": "84e357b1-5d44-4087-b8b1-6dd3a34db1fe",
   "metadata": {},
   "source": [
    "### 📌 A. Conteo de valores nulos por columna"
   ]
  },
  {
   "cell_type": "code",
   "execution_count": 12,
   "id": "3025ecbf-e2a3-4769-acc0-20124a817bb6",
   "metadata": {},
   "outputs": [
    {
     "name": "stdout",
     "output_type": "stream",
     "text": [
      "+----------+----------+----------+-----------+-------------+------+-----+-------+------------+\n",
      "|event_time|event_type|product_id|category_id|category_code|brand |price|user_id|user_session|\n",
      "+----------+----------+----------+-----------+-------------+------+-----+-------+------------+\n",
      "|0         |0         |0         |0          |155385       |205961|0    |0      |2           |\n",
      "+----------+----------+----------+-----------+-------------+------+-----+-------+------------+\n",
      "\n"
     ]
    }
   ],
   "source": [
    "# Determinar los tipos de las columnas para aplicar isnan() solo a numéricas\n",
    "nulos = []\n",
    "for c in df.columns:\n",
    "    tipo = dict(df.dtypes)[c]\n",
    "    if tipo in ['double', 'float']:\n",
    "        nulos.append(count(when(col(c).isNull() | isnan(c), c)).alias(c))\n",
    "    else:\n",
    "        nulos.append(count(when(col(c).isNull(), c)).alias(c))\n",
    "\n",
    "# Mostrar resultado\n",
    "df.select(nulos).show(truncate=False)"
   ]
  },
  {
   "cell_type": "markdown",
   "id": "8e141aec-142b-4a57-b3d3-9f5858cc883b",
   "metadata": {},
   "source": [
    "### 📌 B. Verificación de duplicados"
   ]
  },
  {
   "cell_type": "code",
   "execution_count": 19,
   "id": "83b3a834-a324-4b19-bdcd-11f2352bdeef",
   "metadata": {},
   "outputs": [
    {
     "name": "stdout",
     "output_type": "stream",
     "text": [
      "🔁 Duplicados detectados: 148\n"
     ]
    }
   ],
   "source": [
    "# Comparar conteo total con registros únicos\n",
    "total_registros = df.count()\n",
    "registros_sin_duplicados = df.dropDuplicates().count()\n",
    "duplicados = total_registros - registros_sin_duplicados\n",
    "\n",
    "print(f\"🔁 Duplicados detectados: {duplicados}\")"
   ]
  },
  {
   "cell_type": "markdown",
   "id": "1cbaa0bb-d6e2-4790-a728-4340b80a94a8",
   "metadata": {},
   "source": [
    "### 📌 C. Conteo de valores únicos por columna"
   ]
  },
  {
   "cell_type": "code",
   "execution_count": 20,
   "id": "da24a336-60b4-4f08-a49b-820eb114de3d",
   "metadata": {},
   "outputs": [
    {
     "name": "stdout",
     "output_type": "stream",
     "text": [
      "🔍 Valores únicos en 'event_time': 1085863\n",
      "🔍 Valores únicos en 'event_type': 3\n",
      "🔍 Valores únicos en 'product_id': 124922\n",
      "🔍 Valores únicos en 'category_id': 1082\n",
      "🔍 Valores únicos en 'category_code': 139\n",
      "🔍 Valores únicos en 'brand': 3661\n",
      "🔍 Valores únicos en 'price': 37111\n",
      "🔍 Valores únicos en 'user_id': 892389\n",
      "🔍 Valores únicos en 'user_session': 1281641\n"
     ]
    }
   ],
   "source": [
    "# Recuento de valores únicos por columna\n",
    "for columna in df.columns:\n",
    "    print(f\"🔍 Valores únicos en '{columna}': {df.select(columna).distinct().count()}\")"
   ]
  },
  {
   "cell_type": "markdown",
   "id": "2c80d009-9a01-4f36-8707-ed260093abf6",
   "metadata": {},
   "source": [
    "### 📌 D. Distribución de tipos de eventos"
   ]
  },
  {
   "cell_type": "code",
   "execution_count": 22,
   "id": "ca292d96-74eb-44a4-8b83-1853547e97fc",
   "metadata": {},
   "outputs": [
    {
     "name": "stdout",
     "output_type": "stream",
     "text": [
      "+----------+-------+\n",
      "|event_type|  count|\n",
      "+----------+-------+\n",
      "|      view|1434849|\n",
      "|      cart|  74880|\n",
      "|  purchase|  22038|\n",
      "+----------+-------+\n",
      "\n"
     ]
    }
   ],
   "source": [
    "# Conteo de cada tipo de evento\n",
    "df.groupBy(\"event_type\").count().orderBy(\"count\", ascending=False).show()"
   ]
  },
  {
   "cell_type": "markdown",
   "id": "f92d6c17-a8fc-463b-8c14-faefeb9dc1e0",
   "metadata": {},
   "source": [
    "## 7. ⏱️ Enriquecimiento Temporal"
   ]
  },
  {
   "cell_type": "code",
   "execution_count": 33,
   "id": "bbf4cf05-ddce-4ecf-bae0-e393045b810c",
   "metadata": {},
   "outputs": [],
   "source": [
    "# ⏳ Convertir event_time a timestamp y derivar hora y fecha\n",
    "df = df.withColumn(\"event_time\", col(\"event_time\").cast(TimestampType()))\n",
    "df = df.withColumn(\"hour\", hour(col(\"event_time\")))\n",
    "df = df.withColumn(\"date\", to_date(col(\"event_time\")))"
   ]
  },
  {
   "cell_type": "markdown",
   "id": "f7a84233-51b5-426b-a8bb-15275375b013",
   "metadata": {},
   "source": [
    "## 8. 📈 Visualizaciones"
   ]
  },
  {
   "cell_type": "markdown",
   "id": "bb66f159-f8fd-4d8b-8059-ae478a99485b",
   "metadata": {},
   "source": [
    "### 📅 Total de eventos por día"
   ]
  },
  {
   "cell_type": "code",
   "execution_count": 61,
   "id": "5aecbd4f-5b37-4f95-b6a7-cf3664db597a",
   "metadata": {},
   "outputs": [
    {
     "name": "stderr",
     "output_type": "stream",
     "text": [
      "C:\\Users\\ALEJANDRA HINCAPIE\\AppData\\Local\\Temp\\ipykernel_21316\\1423093388.py:10: UserWarning:\n",
      "\n",
      "Glyph 128197 (\\N{CALENDAR}) missing from current font.\n",
      "\n",
      "C:\\Users\\ALEJANDRA HINCAPIE\\anaconda3\\Lib\\site-packages\\IPython\\core\\pylabtools.py:170: UserWarning:\n",
      "\n",
      "Glyph 128197 (\\N{CALENDAR}) missing from current font.\n",
      "\n"
     ]
    },
    {
     "data": {
      "image/png": "[encoded data removed]",
      "text/plain": [
       "<Figure size 1400x600 with 1 Axes>"
      ]
     },
     "metadata": {},
     "output_type": "display_data"
    }
   ],
   "source": [
    "# Convertimos a Pandas para graficar\n",
    "df_events_day = df.groupBy(\"date\").count().orderBy(\"date\").toPandas()\n",
    "\n",
    "plt.figure(figsize=(14,6))\n",
    "sns.lineplot(data=df_events_day, x=\"date\", y=\"count\")\n",
    "plt.title(\"📅 Total de eventos por día\")\n",
    "plt.xlabel(\"Fecha\")\n",
    "plt.ylabel(\"Cantidad de eventos\")\n",
    "plt.xticks(rotation=45)\n",
    "plt.tight_layout()\n",
    "plt.show()"
   ]
  },
  {
   "cell_type": "markdown",
   "id": "19fc3724-2de8-444c-9e2d-d63dd06bd3fd",
   "metadata": {},
   "source": [
    "### 🕒 Eventos por Hora"
   ]
  },
  {
   "cell_type": "code",
   "execution_count": 41,
   "id": "c63f9cf5-1885-4018-9923-9b9c58a04b6c",
   "metadata": {},
   "outputs": [
    {
     "name": "stderr",
     "output_type": "stream",
     "text": [
      "C:\\Users\\ALEJANDRA HINCAPIE\\AppData\\Local\\Temp\\ipykernel_21316\\3378919100.py:10: UserWarning: Glyph 128202 (\\N{BAR CHART}) missing from current font.\n",
      "  plt.tight_layout()\n",
      "C:\\Users\\ALEJANDRA HINCAPIE\\anaconda3\\Lib\\site-packages\\IPython\\core\\pylabtools.py:170: UserWarning: Glyph 128202 (\\N{BAR CHART}) missing from current font.\n",
      "  fig.canvas.print_figure(bytes_io, **kw)\n"
     ]
    },
    {
     "data": {
      "image/png": "[encoded data removed]",
      "text/plain": [
       "<Figure size 1000x600 with 1 Axes>"
      ]
     },
     "metadata": {},
     "output_type": "display_data"
    }
   ],
   "source": [
    "# Convertimos a Pandas para graficar\n",
    "df_event_hour = df.select(\"event_type\", \"hour\").toPandas()\n",
    "\n",
    "plt.figure(figsize=(10,6))\n",
    "sns.countplot(data=df_event_hour, x=\"hour\", hue=\"event_type\", palette=\"Set2\")\n",
    "plt.title(\"📊 Distribución de eventos por hora del día\")\n",
    "plt.xlabel(\"Hora del día\")\n",
    "plt.ylabel(\"Cantidad de eventos\")\n",
    "plt.xticks(rotation=45)\n",
    "plt.tight_layout()\n",
    "plt.show()"
   ]
  },
  {
   "cell_type": "markdown",
   "id": "9abba18b-dbee-4633-8e5f-ac9a5b92e4e5",
   "metadata": {},
   "source": [
    "### 📊 Distribución de eventos por tipo"
   ]
  },
  {
   "cell_type": "code",
   "execution_count": 52,
   "id": "9f80d941-e25a-44f8-9ed0-3314782ee480",
   "metadata": {},
   "outputs": [
    {
     "name": "stderr",
     "output_type": "stream",
     "text": [
      "C:\\Users\\ALEJANDRA HINCAPIE\\AppData\\Local\\Temp\\ipykernel_21316\\3181801342.py:5: FutureWarning:\n",
      "\n",
      "\n",
      "\n",
      "Passing `palette` without assigning `hue` is deprecated and will be removed in v0.14.0. Assign the `x` variable to `hue` and set `legend=False` for the same effect.\n",
      "\n",
      "\n",
      "C:\\Users\\ALEJANDRA HINCAPIE\\AppData\\Local\\Temp\\ipykernel_21316\\3181801342.py:9: UserWarning:\n",
      "\n",
      "Glyph 128202 (\\N{BAR CHART}) missing from current font.\n",
      "\n",
      "C:\\Users\\ALEJANDRA HINCAPIE\\anaconda3\\Lib\\site-packages\\IPython\\core\\pylabtools.py:170: UserWarning:\n",
      "\n",
      "Glyph 128202 (\\N{BAR CHART}) missing from current font.\n",
      "\n"
     ]
    },
    {
     "data": {
      "image/png": "[encoded data removed]",
      "text/plain": [
       "<Figure size 800x500 with 1 Axes>"
      ]
     },
     "metadata": {},
     "output_type": "display_data"
    }
   ],
   "source": [
    "# Convertimos a Pandas para graficar\n",
    "df_eventos = df.select([\"event_type\"]).toPandas()\n",
    "\n",
    "plt.figure(figsize=(8, 5))\n",
    "sns.countplot(data=df_eventos, x=\"event_type\", palette=\"Set2\")\n",
    "plt.title(\"📊 Distribución de eventos por tipo\")\n",
    "plt.xlabel(\"Tipo de evento\")\n",
    "plt.ylabel(\"Cantidad\")\n",
    "plt.tight_layout()\n",
    "plt.show()"
   ]
  },
  {
   "cell_type": "markdown",
   "id": "6ee5b04f-d793-433e-bed2-ae0ee5a452d0",
   "metadata": {},
   "source": [
    "### 🔻 Embudo de conversión: Vista → Carrito → Compra"
   ]
  },
  {
   "cell_type": "code",
   "execution_count": 55,
   "id": "9d230f6d-5f92-4f13-a34f-6704908370c8",
   "metadata": {},
   "outputs": [
    {
     "data": {
      "application/vnd.plotly.v1+json": {
       "config": {
        "plotlyServerURL": "https://plot.ly"
       },
       "data": [
        {
         "hovertemplate": "Cantidad=%{x}<br>Tipo de evento=%{y}<extra></extra>",
         "legendgroup": "",
         "marker": {
          "color": "#636efa"
         },
         "name": "",
         "orientation": "h",
         "showlegend": false,
         "type": "funnel",
         "x": [
          1434849,
          74880,
          22038
         ],
         "xaxis": "x",
         "y": [
          "view",
          "cart",
          "purchase"
         ],
         "yaxis": "y"
        }
       ],
       "layout": {
        "autosize": true,
        "legend": {
         "tracegroupgap": 0
        },
        "template": {
         "data": {
          "bar": [
           {
            "error_x": {
             "color": "#2a3f5f"
            },
            "error_y": {
             "color": "#2a3f5f"
            },
            "marker": {
             "line": {
              "color": "#E5ECF6",
              "width": 0.5
             },
             "pattern": {
              "fillmode": "overlay",
              "size": 10,
              "solidity": 0.2
             }
            },
            "type": "bar"
           }
          ],
          "barpolar": [
           {
            "marker": {
             "line": {
              "color": "#E5ECF6",
              "width": 0.5
             },
             "pattern": {
              "fillmode": "overlay",
              "size": 10,
              "solidity": 0.2
             }
            },
            "type": "barpolar"
           }
          ],
          "carpet": [
           {
            "aaxis": {
             "endlinecolor": "#2a3f5f",
             "gridcolor": "white",
             "linecolor": "white",
             "minorgridcolor": "white",
             "startlinecolor": "#2a3f5f"
            },
            "baxis": {
             "endlinecolor": "#2a3f5f",
             "gridcolor": "white",
             "linecolor": "white",
             "minorgridcolor": "white",
             "startlinecolor": "#2a3f5f"
            },
            "type": "carpet"
           }
          ],
          "choropleth": [
           {
            "colorbar": {
             "outlinewidth": 0,
             "ticks": ""
            },
            "type": "choropleth"
           }
          ],
          "contour": [
           {
            "colorbar": {
             "outlinewidth": 0,
             "ticks": ""
            },
            "colorscale": [
             [
              0,
              "#0d0887"
             ],
             [
              0.1111111111111111,
              "#46039f"
             ],
             [
              0.2222222222222222,
              "#7201a8"
             ],
             [
              0.3333333333333333,
              "#9c179e"
             ],
             [
              0.4444444444444444,
              "#bd3786"
             ],
             [
              0.5555555555555556,
              "#d8576b"
             ],
             [
              0.6666666666666666,
              "#ed7953"
             ],
             [
              0.7777777777777778,
              "#fb9f3a"
             ],
             [
              0.8888888888888888,
              "#fdca26"
             ],
             [
              1,
              "#f0f921"
             ]
            ],
            "type": "contour"
           }
          ],
          "contourcarpet": [
           {
            "colorbar": {
             "outlinewidth": 0,
             "ticks": ""
            },
            "type": "contourcarpet"
           }
          ],
          "heatmap": [
           {
            "colorbar": {
             "outlinewidth": 0,
             "ticks": ""
            },
            "colorscale": [
             [
              0,
              "#0d0887"
             ],
             [
              0.1111111111111111,
              "#46039f"
             ],
             [
              0.2222222222222222,
              "#7201a8"
             ],
             [
              0.3333333333333333,
              "#9c179e"
             ],
             [
              0.4444444444444444,
              "#bd3786"
             ],
             [
              0.5555555555555556,
              "#d8576b"
             ],
             [
              0.6666666666666666,
              "#ed7953"
             ],
             [
              0.7777777777777778,
              "#fb9f3a"
             ],
             [
              0.8888888888888888,
              "#fdca26"
             ],
             [
              1,
              "#f0f921"
             ]
            ],
            "type": "heatmap"
           }
          ],
          "heatmapgl": [
           {
            "colorbar": {
             "outlinewidth": 0,
             "ticks": ""
            },
            "colorscale": [
             [
              0,
              "#0d0887"
             ],
             [
              0.1111111111111111,
              "#46039f"
             ],
             [
              0.2222222222222222,
              "#7201a8"
             ],
             [
              0.3333333333333333,
              "#9c179e"
             ],
             [
              0.4444444444444444,
              "#bd3786"
             ],
             [
              0.5555555555555556,
              "#d8576b"
             ],
             [
              0.6666666666666666,
              "#ed7953"
             ],
             [
              0.7777777777777778,
              "#fb9f3a"
             ],
             [
              0.8888888888888888,
              "#fdca26"
             ],
             [
              1,
              "#f0f921"
             ]
            ],
            "type": "heatmapgl"
           }
          ],
          "histogram": [
           {
            "marker": {
             "pattern": {
              "fillmode": "overlay",
              "size": 10,
              "solidity": 0.2
             }
            },
            "type": "histogram"
           }
          ],
          "histogram2d": [
           {
            "colorbar": {
             "outlinewidth": 0,
             "ticks": ""
            },
            "colorscale": [
             [
              0,
              "#0d0887"
             ],
             [
              0.1111111111111111,
              "#46039f"
             ],
             [
              0.2222222222222222,
              "#7201a8"
             ],
             [
              0.3333333333333333,
              "#9c179e"
             ],
             [
              0.4444444444444444,
              "#bd3786"
             ],
             [
              0.5555555555555556,
              "#d8576b"
             ],
             [
              0.6666666666666666,
              "#ed7953"
             ],
             [
              0.7777777777777778,
              "#fb9f3a"
             ],
             [
              0.8888888888888888,
              "#fdca26"
             ],
             [
              1,
              "#f0f921"
             ]
            ],
            "type": "histogram2d"
           }
          ],
          "histogram2dcontour": [
           {
            "colorbar": {
             "outlinewidth": 0,
             "ticks": ""
            },
            "colorscale": [
             [
              0,
              "#0d0887"
             ],
             [
              0.1111111111111111,
              "#46039f"
             ],
             [
              0.2222222222222222,
              "#7201a8"
             ],
             [
              0.3333333333333333,
              "#9c179e"
             ],
             [
              0.4444444444444444,
              "#bd3786"
             ],
             [
              0.5555555555555556,
              "#d8576b"
             ],
             [
              0.6666666666666666,
              "#ed7953"
             ],
             [
              0.7777777777777778,
              "#fb9f3a"
             ],
             [
              0.8888888888888888,
              "#fdca26"
             ],
             [
              1,
              "#f0f921"
             ]
            ],
            "type": "histogram2dcontour"
           }
          ],
          "mesh3d": [
           {
            "colorbar": {
             "outlinewidth": 0,
             "ticks": ""
            },
            "type": "mesh3d"
           }
          ],
          "parcoords": [
           {
            "line": {
             "colorbar": {
              "outlinewidth": 0,
              "ticks": ""
             }
            },
            "type": "parcoords"
           }
          ],
          "pie": [
           {
            "automargin": true,
            "type": "pie"
           }
          ],
          "scatter": [
           {
            "fillpattern": {
             "fillmode": "overlay",
             "size": 10,
             "solidity": 0.2
            },
            "type": "scatter"
           }
          ],
          "scatter3d": [
           {
            "line": {
             "colorbar": {
              "outlinewidth": 0,
              "ticks": ""
             }
            },
            "marker": {
             "colorbar": {
              "outlinewidth": 0,
              "ticks": ""
             }
            },
            "type": "scatter3d"
           }
          ],
          "scattercarpet": [
           {
            "marker": {
             "colorbar": {
              "outlinewidth": 0,
              "ticks": ""
             }
            },
            "type": "scattercarpet"
           }
          ],
          "scattergeo": [
           {
            "marker": {
             "colorbar": {
              "outlinewidth": 0,
              "ticks": ""
             }
            },
            "type": "scattergeo"
           }
          ],
          "scattergl": [
           {
            "marker": {
             "colorbar": {
              "outlinewidth": 0,
              "ticks": ""
             }
            },
            "type": "scattergl"
           }
          ],
          "scattermapbox": [
           {
            "marker": {
             "colorbar": {
              "outlinewidth": 0,
              "ticks": ""
             }
            },
            "type": "scattermapbox"
           }
          ],
          "scatterpolar": [
           {
            "marker": {
             "colorbar": {
              "outlinewidth": 0,
              "ticks": ""
             }
            },
            "type": "scatterpolar"
           }
          ],
          "scatterpolargl": [
           {
            "marker": {
             "colorbar": {
              "outlinewidth": 0,
              "ticks": ""
             }
            },
            "type": "scatterpolargl"
           }
          ],
          "scatterternary": [
           {
            "marker": {
             "colorbar": {
              "outlinewidth": 0,
              "ticks": ""
             }
            },
            "type": "scatterternary"
           }
          ],
          "surface": [
           {
            "colorbar": {
             "outlinewidth": 0,
             "ticks": ""
            },
            "colorscale": [
             [
              0,
              "#0d0887"
             ],
             [
              0.1111111111111111,
              "#46039f"
             ],
             [
              0.2222222222222222,
              "#7201a8"
             ],
             [
              0.3333333333333333,
              "#9c179e"
             ],
             [
              0.4444444444444444,
              "#bd3786"
             ],
             [
              0.5555555555555556,
              "#d8576b"
             ],
             [
              0.6666666666666666,
              "#ed7953"
             ],
             [
              0.7777777777777778,
              "#fb9f3a"
             ],
             [
              0.8888888888888888,
              "#fdca26"
             ],
             [
              1,
              "#f0f921"
             ]
            ],
            "type": "surface"
           }
          ],
          "table": [
           {
            "cells": {
             "fill": {
              "color": "#EBF0F8"
             },
             "line": {
              "color": "white"
             }
            },
            "header": {
             "fill": {
              "color": "#C8D4E3"
             },
             "line": {
              "color": "white"
             }
            },
            "type": "table"
           }
          ]
         },
         "layout": {
          "annotationdefaults": {
           "arrowcolor": "#2a3f5f",
           "arrowhead": 0,
           "arrowwidth": 1
          },
          "autotypenumbers": "strict",
          "coloraxis": {
           "colorbar": {
            "outlinewidth": 0,
            "ticks": ""
           }
          },
          "colorscale": {
           "diverging": [
            [
             0,
             "#8e0152"
            ],
            [
             0.1,
             "#c51b7d"
            ],
            [
             0.2,
             "#de77ae"
            ],
            [
             0.3,
             "#f1b6da"
            ],
            [
             0.4,
             "#fde0ef"
            ],
            [
             0.5,
             "#f7f7f7"
            ],
            [
             0.6,
             "#e6f5d0"
            ],
            [
             0.7,
             "#b8e186"
            ],
            [
             0.8,
             "#7fbc41"
            ],
            [
             0.9,
             "#4d9221"
            ],
            [
             1,
             "#276419"
            ]
           ],
           "sequential": [
            [
             0,
             "#0d0887"
            ],
            [
             0.1111111111111111,
             "#46039f"
            ],
            [
             0.2222222222222222,
             "#7201a8"
            ],
            [
             0.3333333333333333,
             "#9c179e"
            ],
            [
             0.4444444444444444,
             "#bd3786"
            ],
            [
             0.5555555555555556,
             "#d8576b"
            ],
            [
             0.6666666666666666,
             "#ed7953"
            ],
            [
             0.7777777777777778,
             "#fb9f3a"
            ],
            [
             0.8888888888888888,
             "#fdca26"
            ],
            [
             1,
             "#f0f921"
            ]
           ],
           "sequentialminus": [
            [
             0,
             "#0d0887"
            ],
            [
             0.1111111111111111,
             "#46039f"
            ],
            [
             0.2222222222222222,
             "#7201a8"
            ],
            [
             0.3333333333333333,
             "#9c179e"
            ],
            [
             0.4444444444444444,
             "#bd3786"
            ],
            [
             0.5555555555555556,
             "#d8576b"
            ],
            [
             0.6666666666666666,
             "#ed7953"
            ],
            [
             0.7777777777777778,
             "#fb9f3a"
            ],
            [
             0.8888888888888888,
             "#fdca26"
            ],
            [
             1,
             "#f0f921"
            ]
           ]
          },
          "colorway": [
           "#636efa",
           "#EF553B",
           "#00cc96",
           "#ab63fa",
           "#FFA15A",
           "#19d3f3",
           "#FF6692",
           "#B6E880",
           "#FF97FF",
           "#FECB52"
          ],
          "font": {
           "color": "#2a3f5f"
          },
          "geo": {
           "bgcolor": "white",
           "lakecolor": "white",
           "landcolor": "#E5ECF6",
           "showlakes": true,
           "showland": true,
           "subunitcolor": "white"
          },
          "hoverlabel": {
           "align": "left"
          },
          "hovermode": "closest",
          "mapbox": {
           "style": "light"
          },
          "paper_bgcolor": "white",
          "plot_bgcolor": "#E5ECF6",
          "polar": {
           "angularaxis": {
            "gridcolor": "white",
            "linecolor": "white",
            "ticks": ""
           },
           "bgcolor": "#E5ECF6",
           "radialaxis": {
            "gridcolor": "white",
            "linecolor": "white",
            "ticks": ""
           }
          },
          "scene": {
           "xaxis": {
            "backgroundcolor": "#E5ECF6",
            "gridcolor": "white",
            "gridwidth": 2,
            "linecolor": "white",
            "showbackground": true,
            "ticks": "",
            "zerolinecolor": "white"
           },
           "yaxis": {
            "backgroundcolor": "#E5ECF6",
            "gridcolor": "white",
            "gridwidth": 2,
            "linecolor": "white",
            "showbackground": true,
            "ticks": "",
            "zerolinecolor": "white"
           },
           "zaxis": {
            "backgroundcolor": "#E5ECF6",
            "gridcolor": "white",
            "gridwidth": 2,
            "linecolor": "white",
            "showbackground": true,
            "ticks": "",
            "zerolinecolor": "white"
           }
          },
          "shapedefaults": {
           "line": {
            "color": "#2a3f5f"
           }
          },
          "ternary": {
           "aaxis": {
            "gridcolor": "white",
            "linecolor": "white",
            "ticks": ""
           },
           "baxis": {
            "gridcolor": "white",
            "linecolor": "white",
            "ticks": ""
           },
           "bgcolor": "#E5ECF6",
           "caxis": {
            "gridcolor": "white",
            "linecolor": "white",
            "ticks": ""
           }
          },
          "title": {
           "x": 0.05
          },
          "xaxis": {
           "automargin": true,
           "gridcolor": "white",
           "linecolor": "white",
           "ticks": "",
           "title": {
            "standoff": 15
           },
           "zerolinecolor": "white",
           "zerolinewidth": 2
          },
          "yaxis": {
           "automargin": true,
           "gridcolor": "white",
           "linecolor": "white",
           "ticks": "",
           "title": {
            "standoff": 15
           },
           "zerolinecolor": "white",
           "zerolinewidth": 2
          }
         }
        },
        "title": {
         "text": "🔻 Embudo de conversión: vista → carrito → compra"
        },
        "xaxis": {
         "anchor": "y",
         "autorange": true,
         "domain": [
          0,
          1
         ],
         "range": [
          -797138.3333333334,
          797138.3333333334
         ],
         "title": {
          "text": "Cantidad"
         },
         "type": "linear"
        },
        "yaxis": {
         "anchor": "x",
         "autorange": true,
         "domain": [
          0,
          1
         ],
         "range": [
          2.5,
          -0.5
         ],
         "title": {
          "text": "Tipo de evento"
         },
         "type": "category"
        }
       }
      },
      "image/png": "[encoded data removed]",
      "text/html": [
       "<div>                            <div id=\"0b8b5728-b53c-4bbe-8250-09279d9c12f8\" class=\"plotly-graph-div\" style=\"height:525px; width:100%;\"></div>            <script type=\"text/javascript\">                require([\"plotly\"], function(Plotly) {                    window.PLOTLYENV=window.PLOTLYENV || {};                                    if (document.getElementById(\"0b8b5728-b53c-4bbe-8250-09279d9c12f8\")) {                    Plotly.newPlot(                        \"0b8b5728-b53c-4bbe-8250-09279d9c12f8\",                        [{\"hovertemplate\":\"Cantidad=%{x}\\u003cbr\\u003eTipo de evento=%{y}\\u003cextra\\u003e\\u003c\\u002fextra\\u003e\",\"legendgroup\":\"\",\"marker\":{\"color\":\"#636efa\"},\"name\":\"\",\"orientation\":\"h\",\"showlegend\":false,\"x\":[1434849,74880,22038],\"xaxis\":\"x\",\"y\":[\"view\",\"cart\",\"purchase\"],\"yaxis\":\"y\",\"type\":\"funnel\"}],                        {\"template\":{\"data\":{\"histogram2dcontour\":[{\"type\":\"histogram2dcontour\",\"colorbar\":{\"outlinewidth\":0,\"ticks\":\"\"},\"colorscale\":[[0.0,\"#0d0887\"],[0.1111111111111111,\"#46039f\"],[0.2222222222222222,\"#7201a8\"],[0.3333333333333333,\"#9c179e\"],[0.4444444444444444,\"#bd3786\"],[0.5555555555555556,\"#d8576b\"],[0.6666666666666666,\"#ed7953\"],[0.7777777777777778,\"#fb9f3a\"],[0.8888888888888888,\"#fdca26\"],[1.0,\"#f0f921\"]]}],\"choropleth\":[{\"type\":\"choropleth\",\"colorbar\":{\"outlinewidth\":0,\"ticks\":\"\"}}],\"histogram2d\":[{\"type\":\"histogram2d\",\"colorbar\":{\"outlinewidth\":0,\"ticks\":\"\"},\"colorscale\":[[0.0,\"#0d0887\"],[0.1111111111111111,\"#46039f\"],[0.2222222222222222,\"#7201a8\"],[0.3333333333333333,\"#9c179e\"],[0.4444444444444444,\"#bd3786\"],[0.5555555555555556,\"#d8576b\"],[0.6666666666666666,\"#ed7953\"],[0.7777777777777778,\"#fb9f3a\"],[0.8888888888888888,\"#fdca26\"],[1.0,\"#f0f921\"]]}],\"heatmap\":[{\"type\":\"heatmap\",\"colorbar\":{\"outlinewidth\":0,\"ticks\":\"\"},\"colorscale\":[[0.0,\"#0d0887\"],[0.1111111111111111,\"#46039f\"],[0.2222222222222222,\"#7201a8\"],[0.3333333333333333,\"#9c179e\"],[0.4444444444444444,\"#bd3786\"],[0.5555555555555556,\"#d8576b\"],[0.6666666666666666,\"#ed7953\"],[0.7777777777777778,\"#fb9f3a\"],[0.8888888888888888,\"#fdca26\"],[1.0,\"#f0f921\"]]}],\"heatmapgl\":[{\"type\":\"heatmapgl\",\"colorbar\":{\"outlinewidth\":0,\"ticks\":\"\"},\"colorscale\":[[0.0,\"#0d0887\"],[0.1111111111111111,\"#46039f\"],[0.2222222222222222,\"#7201a8\"],[0.3333333333333333,\"#9c179e\"],[0.4444444444444444,\"#bd3786\"],[0.5555555555555556,\"#d8576b\"],[0.6666666666666666,\"#ed7953\"],[0.7777777777777778,\"#fb9f3a\"],[0.8888888888888888,\"#fdca26\"],[1.0,\"#f0f921\"]]}],\"contourcarpet\":[{\"type\":\"contourcarpet\",\"colorbar\":{\"outlinewidth\":0,\"ticks\":\"\"}}],\"contour\":[{\"type\":\"contour\",\"colorbar\":{\"outlinewidth\":0,\"ticks\":\"\"},\"colorscale\":[[0.0,\"#0d0887\"],[0.1111111111111111,\"#46039f\"],[0.2222222222222222,\"#7201a8\"],[0.3333333333333333,\"#9c179e\"],[0.4444444444444444,\"#bd3786\"],[0.5555555555555556,\"#d8576b\"],[0.6666666666666666,\"#ed7953\"],[0.7777777777777778,\"#fb9f3a\"],[0.8888888888888888,\"#fdca26\"],[1.0,\"#f0f921\"]]}],\"surface\":[{\"type\":\"surface\",\"colorbar\":{\"outlinewidth\":0,\"ticks\":\"\"},\"colorscale\":[[0.0,\"#0d0887\"],[0.1111111111111111,\"#46039f\"],[0.2222222222222222,\"#7201a8\"],[0.3333333333333333,\"#9c179e\"],[0.4444444444444444,\"#bd3786\"],[0.5555555555555556,\"#d8576b\"],[0.6666666666666666,\"#ed7953\"],[0.7777777777777778,\"#fb9f3a\"],[0.8888888888888888,\"#fdca26\"],[1.0,\"#f0f921\"]]}],\"mesh3d\":[{\"type\":\"mesh3d\",\"colorbar\":{\"outlinewidth\":0,\"ticks\":\"\"}}],\"scatter\":[{\"fillpattern\":{\"fillmode\":\"overlay\",\"size\":10,\"solidity\":0.2},\"type\":\"scatter\"}],\"parcoords\":[{\"type\":\"parcoords\",\"line\":{\"colorbar\":{\"outlinewidth\":0,\"ticks\":\"\"}}}],\"scatterpolargl\":[{\"type\":\"scatterpolargl\",\"marker\":{\"colorbar\":{\"outlinewidth\":0,\"ticks\":\"\"}}}],\"bar\":[{\"error_x\":{\"color\":\"#2a3f5f\"},\"error_y\":{\"color\":\"#2a3f5f\"},\"marker\":{\"line\":{\"color\":\"#E5ECF6\",\"width\":0.5},\"pattern\":{\"fillmode\":\"overlay\",\"size\":10,\"solidity\":0.2}},\"type\":\"bar\"}],\"scattergeo\":[{\"type\":\"scattergeo\",\"marker\":{\"colorbar\":{\"outlinewidth\":0,\"ticks\":\"\"}}}],\"scatterpolar\":[{\"type\":\"scatterpolar\",\"marker\":{\"colorbar\":{\"outlinewidth\":0,\"ticks\":\"\"}}}],\"histogram\":[{\"marker\":{\"pattern\":{\"fillmode\":\"overlay\",\"size\":10,\"solidity\":0.2}},\"type\":\"histogram\"}],\"scattergl\":[{\"type\":\"scattergl\",\"marker\":{\"colorbar\":{\"outlinewidth\":0,\"ticks\":\"\"}}}],\"scatter3d\":[{\"type\":\"scatter3d\",\"line\":{\"colorbar\":{\"outlinewidth\":0,\"ticks\":\"\"}},\"marker\":{\"colorbar\":{\"outlinewidth\":0,\"ticks\":\"\"}}}],\"scattermapbox\":[{\"type\":\"scattermapbox\",\"marker\":{\"colorbar\":{\"outlinewidth\":0,\"ticks\":\"\"}}}],\"scatterternary\":[{\"type\":\"scatterternary\",\"marker\":{\"colorbar\":{\"outlinewidth\":0,\"ticks\":\"\"}}}],\"scattercarpet\":[{\"type\":\"scattercarpet\",\"marker\":{\"colorbar\":{\"outlinewidth\":0,\"ticks\":\"\"}}}],\"carpet\":[{\"aaxis\":{\"endlinecolor\":\"#2a3f5f\",\"gridcolor\":\"white\",\"linecolor\":\"white\",\"minorgridcolor\":\"white\",\"startlinecolor\":\"#2a3f5f\"},\"baxis\":{\"endlinecolor\":\"#2a3f5f\",\"gridcolor\":\"white\",\"linecolor\":\"white\",\"minorgridcolor\":\"white\",\"startlinecolor\":\"#2a3f5f\"},\"type\":\"carpet\"}],\"table\":[{\"cells\":{\"fill\":{\"color\":\"#EBF0F8\"},\"line\":{\"color\":\"white\"}},\"header\":{\"fill\":{\"color\":\"#C8D4E3\"},\"line\":{\"color\":\"white\"}},\"type\":\"table\"}],\"barpolar\":[{\"marker\":{\"line\":{\"color\":\"#E5ECF6\",\"width\":0.5},\"pattern\":{\"fillmode\":\"overlay\",\"size\":10,\"solidity\":0.2}},\"type\":\"barpolar\"}],\"pie\":[{\"automargin\":true,\"type\":\"pie\"}]},\"layout\":{\"autotypenumbers\":\"strict\",\"colorway\":[\"#636efa\",\"#EF553B\",\"#00cc96\",\"#ab63fa\",\"#FFA15A\",\"#19d3f3\",\"#FF6692\",\"#B6E880\",\"#FF97FF\",\"#FECB52\"],\"font\":{\"color\":\"#2a3f5f\"},\"hovermode\":\"closest\",\"hoverlabel\":{\"align\":\"left\"},\"paper_bgcolor\":\"white\",\"plot_bgcolor\":\"#E5ECF6\",\"polar\":{\"bgcolor\":\"#E5ECF6\",\"angularaxis\":{\"gridcolor\":\"white\",\"linecolor\":\"white\",\"ticks\":\"\"},\"radialaxis\":{\"gridcolor\":\"white\",\"linecolor\":\"white\",\"ticks\":\"\"}},\"ternary\":{\"bgcolor\":\"#E5ECF6\",\"aaxis\":{\"gridcolor\":\"white\",\"linecolor\":\"white\",\"ticks\":\"\"},\"baxis\":{\"gridcolor\":\"white\",\"linecolor\":\"white\",\"ticks\":\"\"},\"caxis\":{\"gridcolor\":\"white\",\"linecolor\":\"white\",\"ticks\":\"\"}},\"coloraxis\":{\"colorbar\":{\"outlinewidth\":0,\"ticks\":\"\"}},\"colorscale\":{\"sequential\":[[0.0,\"#0d0887\"],[0.1111111111111111,\"#46039f\"],[0.2222222222222222,\"#7201a8\"],[0.3333333333333333,\"#9c179e\"],[0.4444444444444444,\"#bd3786\"],[0.5555555555555556,\"#d8576b\"],[0.6666666666666666,\"#ed7953\"],[0.7777777777777778,\"#fb9f3a\"],[0.8888888888888888,\"#fdca26\"],[1.0,\"#f0f921\"]],\"sequentialminus\":[[0.0,\"#0d0887\"],[0.1111111111111111,\"#46039f\"],[0.2222222222222222,\"#7201a8\"],[0.3333333333333333,\"#9c179e\"],[0.4444444444444444,\"#bd3786\"],[0.5555555555555556,\"#d8576b\"],[0.6666666666666666,\"#ed7953\"],[0.7777777777777778,\"#fb9f3a\"],[0.8888888888888888,\"#fdca26\"],[1.0,\"#f0f921\"]],\"diverging\":[[0,\"#8e0152\"],[0.1,\"#c51b7d\"],[0.2,\"#de77ae\"],[0.3,\"#f1b6da\"],[0.4,\"#fde0ef\"],[0.5,\"#f7f7f7\"],[0.6,\"#e6f5d0\"],[0.7,\"#b8e186\"],[0.8,\"#7fbc41\"],[0.9,\"#4d9221\"],[1,\"#276419\"]]},\"xaxis\":{\"gridcolor\":\"white\",\"linecolor\":\"white\",\"ticks\":\"\",\"title\":{\"standoff\":15},\"zerolinecolor\":\"white\",\"automargin\":true,\"zerolinewidth\":2},\"yaxis\":{\"gridcolor\":\"white\",\"linecolor\":\"white\",\"ticks\":\"\",\"title\":{\"standoff\":15},\"zerolinecolor\":\"white\",\"automargin\":true,\"zerolinewidth\":2},\"scene\":{\"xaxis\":{\"backgroundcolor\":\"#E5ECF6\",\"gridcolor\":\"white\",\"linecolor\":\"white\",\"showbackground\":true,\"ticks\":\"\",\"zerolinecolor\":\"white\",\"gridwidth\":2},\"yaxis\":{\"backgroundcolor\":\"#E5ECF6\",\"gridcolor\":\"white\",\"linecolor\":\"white\",\"showbackground\":true,\"ticks\":\"\",\"zerolinecolor\":\"white\",\"gridwidth\":2},\"zaxis\":{\"backgroundcolor\":\"#E5ECF6\",\"gridcolor\":\"white\",\"linecolor\":\"white\",\"showbackground\":true,\"ticks\":\"\",\"zerolinecolor\":\"white\",\"gridwidth\":2}},\"shapedefaults\":{\"line\":{\"color\":\"#2a3f5f\"}},\"annotationdefaults\":{\"arrowcolor\":\"#2a3f5f\",\"arrowhead\":0,\"arrowwidth\":1},\"geo\":{\"bgcolor\":\"white\",\"landcolor\":\"#E5ECF6\",\"subunitcolor\":\"white\",\"showland\":true,\"showlakes\":true,\"lakecolor\":\"white\"},\"title\":{\"x\":0.05},\"mapbox\":{\"style\":\"light\"}}},\"xaxis\":{\"anchor\":\"y\",\"domain\":[0.0,1.0],\"title\":{\"text\":\"Cantidad\"}},\"yaxis\":{\"anchor\":\"x\",\"domain\":[0.0,1.0],\"title\":{\"text\":\"Tipo de evento\"}},\"legend\":{\"tracegroupgap\":0},\"title\":{\"text\":\"\\ud83d\\udd3b Embudo de conversi\\u00f3n: vista \\u2192 carrito \\u2192 compra\"}},                        {\"responsive\": true}                    ).then(function(){\n",
       "                            \n",
       "var gd = document.getElementById('0b8b5728-b53c-4bbe-8250-09279d9c12f8');\n",
       "var x = new MutationObserver(function (mutations, observer) {{\n",
       "        var display = window.getComputedStyle(gd).display;\n",
       "        if (!display || display === 'none') {{\n",
       "            console.log([gd, 'removed!']);\n",
       "            Plotly.purge(gd);\n",
       "            observer.disconnect();\n",
       "        }}\n",
       "}});\n",
       "\n",
       "// Listen for the removal of the full notebook cells\n",
       "var notebookContainer = gd.closest('#notebook-container');\n",
       "if (notebookContainer) {{\n",
       "    x.observe(notebookContainer, {childList: true});\n",
       "}}\n",
       "\n",
       "// Listen for the clearing of the current output cell\n",
       "var outputEl = gd.closest('.output');\n",
       "if (outputEl) {{\n",
       "    x.observe(outputEl, {childList: true});\n",
       "}}\n",
       "\n",
       "                        })                };                });            </script>        </div>"
      ]
     },
     "metadata": {},
     "output_type": "display_data"
    }
   ],
   "source": [
    "# Convertimos a Pandas para graficar\n",
    "df_funnel = df.groupBy(\"event_type\").count().toPandas().sort_values(\"count\", ascending=False)\n",
    "\n",
    "fig = px.funnel(df_funnel, x=\"count\", y=\"event_type\", \n",
    "                title=\"🔻 Embudo de conversión: vista → carrito → compra\",\n",
    "                labels={\"event_type\": \"Tipo de evento\", \"count\": \"Cantidad\"})\n",
    "fig.show()"
   ]
  },
  {
   "cell_type": "markdown",
   "id": "87489f81-c0ac-4529-89e3-7f16ec8ac0fb",
   "metadata": {},
   "source": [
    "### 🎯 Tasa de sesiones con compra"
   ]
  },
  {
   "cell_type": "code",
   "execution_count": 66,
   "id": "136c92a2-84a4-46d8-b9bb-b038576f27a2",
   "metadata": {},
   "outputs": [
    {
     "name": "stdout",
     "output_type": "stream",
     "text": [
      "🎯 Tasa de sesiones con al menos una compra: 1.71%\n"
     ]
    }
   ],
   "source": [
    "# Convertimos a Pandas\n",
    "df_sessions = df.select(\"user_session\", \"event_type\").toPandas()\n",
    "df_sessions[\"compró\"] = df_sessions[\"event_type\"] == \"purchase\"\n",
    "conversion_rate = df_sessions.groupby(\"user_session\")[\"compró\"].any().mean()\n",
    "\n",
    "print(f\"🎯 Tasa de sesiones con al menos una compra: {conversion_rate * 100:.2f}%\")"
   ]
  },
  {
   "cell_type": "markdown",
   "id": "255fe7c1-1d20-42c7-bc79-4ed72f626e87",
   "metadata": {},
   "source": [
    "### 💸 Análisis de precios"
   ]
  },
  {
   "cell_type": "code",
   "execution_count": 68,
   "id": "99c8f5a2-cdb4-408c-ab7d-feafdce9d810",
   "metadata": {},
   "outputs": [
    {
     "name": "stdout",
     "output_type": "stream",
     "text": [
      "📊 Estadísticas de precio:\n",
      "count    1.531767e+06\n",
      "mean     2.731112e+02\n",
      "std      3.561320e+02\n",
      "min      0.000000e+00\n",
      "25%      5.146000e+01\n",
      "50%      1.487800e+02\n",
      "75%      3.420900e+02\n",
      "max      2.574070e+03\n",
      "Name: price, dtype: float64\n"
     ]
    },
    {
     "name": "stderr",
     "output_type": "stream",
     "text": [
      "C:\\Users\\ALEJANDRA HINCAPIE\\AppData\\Local\\Temp\\ipykernel_21316\\3788187558.py:14: UserWarning:\n",
      "\n",
      "Glyph 128184 (\\N{MONEY WITH WINGS}) missing from current font.\n",
      "\n",
      "C:\\Users\\ALEJANDRA HINCAPIE\\anaconda3\\Lib\\site-packages\\IPython\\core\\pylabtools.py:170: UserWarning:\n",
      "\n",
      "Glyph 128184 (\\N{MONEY WITH WINGS}) missing from current font.\n",
      "\n"
     ]
    },
    {
     "data": {
      "image/png": "[encoded data removed]",
      "text/plain": [
       "<Figure size 1000x600 with 1 Axes>"
      ]
     },
     "metadata": {},
     "output_type": "display_data"
    }
   ],
   "source": [
    "# Convertimos a Pandas para graficar\n",
    "df_price = df.select(\"price\").toPandas()\n",
    "\n",
    "print(\"📊 Estadísticas de precio:\")\n",
    "print(df_price[\"price\"].describe())\n",
    "\n",
    "df_price_viz = df_price[df_price[\"price\"] < 2000]\n",
    "\n",
    "plt.figure(figsize=(10,6))\n",
    "sns.histplot(df_price_viz[\"price\"], bins=100, kde=True)\n",
    "plt.title(\"💸 Distribución de precios (hasta $2000)\")\n",
    "plt.xlabel(\"Precio\")\n",
    "plt.ylabel(\"Frecuencia\")\n",
    "plt.tight_layout()\n",
    "plt.show()"
   ]
  },
  {
   "cell_type": "markdown",
   "id": "604a9ff1-72f0-4074-b79f-11c8e5e2393c",
   "metadata": {},
   "source": [
    "### 🚨 Detección de Outliers de Precio (IQR)"
   ]
  },
  {
   "cell_type": "code",
   "execution_count": 70,
   "id": "cebbf23e-e045-4a68-a509-68ce3ffdd37e",
   "metadata": {},
   "outputs": [
    {
     "name": "stdout",
     "output_type": "stream",
     "text": [
      "🚨 Outliers detectados: 126,686\n",
      "🔼 Límite superior: 778.03\n",
      "🔽 Límite inferior: -384.49\n"
     ]
    }
   ],
   "source": [
    "Q1 = df_price[\"price\"].quantile(0.25)\n",
    "Q3 = df_price[\"price\"].quantile(0.75)\n",
    "IQR = Q3 - Q1\n",
    "lower_bound = Q1 - 1.5 * IQR\n",
    "upper_bound = Q3 + 1.5 * IQR\n",
    "\n",
    "outliers = df_price[(df_price[\"price\"] < lower_bound) | (df_price[\"price\"] > upper_bound)]\n",
    "print(f\"🚨 Outliers detectados: {len(outliers):,}\")\n",
    "print(f\"🔼 Límite superior: {upper_bound:.2f}\")\n",
    "print(f\"🔽 Límite inferior: {lower_bound:.2f}\")"
   ]
  },
  {
   "cell_type": "markdown",
   "id": "868b5c38-215e-4cb4-8442-afe4fbbe69cf",
   "metadata": {},
   "source": [
    "### 🏷️ Marcas más frecuentes por tipo de evento"
   ]
  },
  {
   "cell_type": "code",
   "execution_count": 72,
   "id": "6759b9ea-7fe9-47a2-8ee7-c52744c1a9ef",
   "metadata": {},
   "outputs": [
    {
     "name": "stderr",
     "output_type": "stream",
     "text": [
      "C:\\Users\\ALEJANDRA HINCAPIE\\AppData\\Local\\Temp\\ipykernel_21316\\2731178576.py:11: UserWarning:\n",
      "\n",
      "Glyph 127991 (\\N{LABEL}) missing from current font.\n",
      "\n",
      "C:\\Users\\ALEJANDRA HINCAPIE\\anaconda3\\Lib\\site-packages\\IPython\\core\\pylabtools.py:170: UserWarning:\n",
      "\n",
      "Glyph 127991 (\\N{LABEL}) missing from current font.\n",
      "\n"
     ]
    },
    {
     "data": {
      "image/png": "[encoded data removed]",
      "text/plain": [
       "<Figure size 1000x600 with 1 Axes>"
      ]
     },
     "metadata": {},
     "output_type": "display_data"
    }
   ],
   "source": [
    "# Convertimos a Pandas para graficar\n",
    "df_marcas = df.select(\"event_type\", \"brand\").dropna().toPandas()\n",
    "top_brands = df_marcas[\"brand\"].value_counts().head(10).index\n",
    "df_top_brands = df_marcas[df_marcas[\"brand\"].isin(top_brands)]\n",
    "\n",
    "plt.figure(figsize=(10,6))\n",
    "sns.countplot(data=df_top_brands, y=\"brand\", hue=\"event_type\", palette=\"Set3\")\n",
    "plt.title(\"🏷️ Marcas más populares por tipo de evento\")\n",
    "plt.xlabel(\"Cantidad de eventos\")\n",
    "plt.ylabel(\"Marca\")\n",
    "plt.tight_layout()\n",
    "plt.show()"
   ]
  },
  {
   "cell_type": "code",
   "execution_count": null,
   "id": "e537c109-cd06-4db1-aa89-63a1de817b0a",
   "metadata": {},
   "outputs": [],
   "source": []
  }
 ],
 "metadata": {
  "kernelspec": {
   "display_name": "Python 3 (ipykernel)",
   "language": "python",
   "name": "python3"
  },
  "language_info": {
   "codemirror_mode": {
    "name": "ipython",
    "version": 3
   },
   "file_extension": ".py",
   "mimetype": "text/x-python",
   "name": "python",
   "nbconvert_exporter": "python",
   "pygments_lexer": "ipython3",
   "version": "3.12.4"
  }
 },
 "nbformat": 4,
 "nbformat_minor": 5
}
